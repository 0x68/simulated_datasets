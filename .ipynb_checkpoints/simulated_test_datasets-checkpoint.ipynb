{
 "cells": [
  {
   "cell_type": "markdown",
   "metadata": {},
   "source": [
    "# Create Simulated Tabular Datasets"
   ]
  },
  {
   "cell_type": "code",
   "execution_count": 2,
   "metadata": {
    "collapsed": true
   },
   "outputs": [],
   "source": [
    "import pandas as pd\n",
    "import numpy as np"
   ]
  },
  {
   "cell_type": "markdown",
   "metadata": {},
   "source": [
    "## 999 Rows, Each Row Is 1 Second"
   ]
  },
  {
   "cell_type": "code",
   "execution_count": 57,
   "metadata": {
    "collapsed": false
   },
   "outputs": [],
   "source": [
    "df = pd.DataFrame()\n",
    "df['pretest_score'] = np.random.randint(low=1, high=10000000, size=999)\n",
    "df['posttest_score'] = np.random.randint(low=1, high=10000000, size=999)\n",
    "df['datetime'] = pd.Series(pd.date_range('1/1/2015', periods=999, freq='S'))\n",
    "df['category'] = np.random.randint(low=1, high=3, size=999)\n",
    "df.to_csv(\"simulated_999_1sec.csv\", index=False)"
   ]
  },
  {
   "cell_type": "markdown",
   "metadata": {},
   "source": [
    "## 100,000 Rows, Each Row Is 1 Second"
   ]
  },
  {
   "cell_type": "code",
   "execution_count": 58,
   "metadata": {
    "collapsed": true
   },
   "outputs": [],
   "source": [
    "df = pd.DataFrame()\n",
    "df['pretest_score'] = np.random.randint(low=1, high=10000000, size=100000)\n",
    "df['posttest_score'] = np.random.randint(low=1, high=10000000, size=100000)\n",
    "df['datetime'] = pd.Series(pd.date_range('1/1/2015', periods=100000, freq='S'))\n",
    "df['category'] = np.random.randint(low=1, high=3, size=100000)\n",
    "df.to_csv(\"simulated_100000_1sec.csv\", index=False)"
   ]
  },
  {
   "cell_type": "markdown",
   "metadata": {},
   "source": [
    "## 500 Rows, Each Row Is 1 Hour"
   ]
  },
  {
   "cell_type": "code",
   "execution_count": 59,
   "metadata": {
    "collapsed": true
   },
   "outputs": [],
   "source": [
    "df = pd.DataFrame()\n",
    "df['pretest_score'] = np.random.randint(low=1, high=10000000, size=500)\n",
    "df['posttest_score'] = np.random.randint(low=1, high=10000000, size=500)\n",
    "df['datetime'] = pd.Series(pd.date_range('1/1/2015', periods=500, freq='H'))\n",
    "df['category'] = np.random.randint(low=1, high=3, size=500)\n",
    "df.to_csv(\"simulated_500_1hour.csv\", index=False)"
   ]
  },
  {
   "cell_type": "markdown",
   "metadata": {
    "collapsed": true
   },
   "source": [
    "## 100,000 Rows, Each Row Is 1 Hour"
   ]
  },
  {
   "cell_type": "code",
   "execution_count": 60,
   "metadata": {
    "collapsed": true
   },
   "outputs": [],
   "source": [
    "df = pd.DataFrame()\n",
    "df['pretest_score'] = np.random.randint(low=1, high=10000000, size=100000)\n",
    "df['posttest_score'] = np.random.randint(low=1, high=10000000, size=100000)\n",
    "df['datetime'] = pd.Series(pd.date_range('1/1/2015', periods=1000000, freq='H'))\n",
    "df['category'] = np.random.randint(low=1, high=3, size=100000)\n",
    "df.to_csv(\"simulated_100000_1hour.csv\", index=False)"
   ]
  },
  {
   "cell_type": "markdown",
   "metadata": {},
   "source": [
    "## 50 Rows, Each Row Is 1 Year"
   ]
  },
  {
   "cell_type": "code",
   "execution_count": 61,
   "metadata": {
    "collapsed": false
   },
   "outputs": [],
   "source": [
    "df = pd.DataFrame()\n",
    "df['pretest_score'] = np.random.randint(low=1, high=10000000, size=50)\n",
    "df['posttest_score'] = np.random.randint(low=1, high=10000000, size=50)\n",
    "df['datetime'] = pd.Series(pd.date_range('1/1/2015', periods=50, freq='A'))\n",
    "df['category'] = np.random.randint(low=1, high=3, size=50)\n",
    "df.to_csv(\"simulated_50_1year.csv\", index=False)"
   ]
  },
  {
   "cell_type": "markdown",
   "metadata": {},
   "source": [
    "## 5 Rows, Each Row Is 1 Year"
   ]
  },
  {
   "cell_type": "code",
   "execution_count": 62,
   "metadata": {
    "collapsed": true
   },
   "outputs": [],
   "source": [
    "df = pd.DataFrame()\n",
    "df['pretest_score'] = np.random.randint(low=1, high=10000000, size=5)\n",
    "df['posttest_score'] = np.random.randint(low=1, high=10000000, size=5)\n",
    "df['datetime'] = pd.Series(pd.date_range('1/1/2015', periods=5, freq='A'))\n",
    "df['category'] = np.random.randint(low=1, high=3, size=5)\n",
    "df.to_csv(\"simulated_5_1year.csv\", index=False)"
   ]
  },
  {
   "cell_type": "markdown",
   "metadata": {},
   "source": [
    "## 900 Rows, Each Row Is 1 Day"
   ]
  },
  {
   "cell_type": "code",
   "execution_count": 63,
   "metadata": {
    "collapsed": false
   },
   "outputs": [],
   "source": [
    "df = pd.DataFrame()\n",
    "df['pretest_score'] = np.random.randint(low=1, high=10000000, size=900)\n",
    "df['posttest_score'] = np.random.randint(low=1, high=10000000, size=900)\n",
    "df['datetime'] = pd.Series(pd.date_range('1/1/2015', periods=900, freq='D'))\n",
    "df['category'] = np.random.randint(low=1, high=3, size=900)\n",
    "df.to_csv(\"simulated_900_1day.csv\", index=False)"
   ]
  },
  {
   "cell_type": "markdown",
   "metadata": {},
   "source": [
    "## 5000 Rows, Each Row Is 1 Day"
   ]
  },
  {
   "cell_type": "code",
   "execution_count": 64,
   "metadata": {
    "collapsed": true
   },
   "outputs": [],
   "source": [
    "df = pd.DataFrame()\n",
    "df['pretest_score'] = np.random.randint(low=1, high=10000000, size=5000)\n",
    "df['posttest_score'] = np.random.randint(low=1, high=10000000, size=5000)\n",
    "df['datetime'] = pd.Series(pd.date_range('1/1/2015', periods=5000, freq='D'))\n",
    "df['category'] = np.random.randint(low=1, high=3, size=5000)\n",
    "df.to_csv(\"simulated_5000_1day.csv\", index=False)"
   ]
  },
  {
   "cell_type": "markdown",
   "metadata": {},
   "source": [
    "## 600 Rows, Each Row Is 1 Day, All Values Negative Or Positive"
   ]
  },
  {
   "cell_type": "code",
   "execution_count": 5,
   "metadata": {
    "collapsed": false
   },
   "outputs": [],
   "source": [
    "df = pd.DataFrame()\n",
    "df['pretest_score'] = np.random.randint(low=-10000000, high=10000000, size=600)\n",
    "df['posttest_score'] = np.random.randint(low=-10000000, high=10000000, size=600)\n",
    "df['datetime'] = pd.Series(pd.date_range('1/1/2015', periods=600, freq='D'))\n",
    "df['category'] = np.random.randint(low=-5, high=5, size=600)\n",
    "df.to_csv(\"simulated_600_1day_neg-pos.csv\", index=False)"
   ]
  },
  {
   "cell_type": "markdown",
   "metadata": {},
   "source": [
    "## 50 Rows, Each Row Is 1 Day, No Value Close To Zero"
   ]
  },
  {
   "cell_type": "code",
   "execution_count": 8,
   "metadata": {
    "collapsed": true
   },
   "outputs": [],
   "source": [
    "df = pd.DataFrame()\n",
    "df['pretest_score'] = np.random.randint(low=500000, high=10000000, size=50)\n",
    "df['posttest_score'] = np.random.randint(low=500000, high=10000000, size=50)\n",
    "df['datetime'] = pd.Series(pd.date_range('1/1/2015', periods=50, freq='D'))\n",
    "df['category'] = np.random.randint(low=5, high=10, size=50)\n",
    "df.to_csv(\"simulated_50_1day_only-pos.csv\", index=False)"
   ]
  },
  {
   "cell_type": "markdown",
   "metadata": {},
   "source": [
    "## 90 Rows, Each Row Is 1 Day, No Value Close To Zero"
   ]
  },
  {
   "cell_type": "code",
   "execution_count": 9,
   "metadata": {
    "collapsed": true
   },
   "outputs": [],
   "source": [
    "df = pd.DataFrame()\n",
    "df['pretest_score'] = np.random.randint(low=500000, high=10000000, size=90)\n",
    "df['posttest_score'] = np.random.randint(low=500000, high=10000000, size=90)\n",
    "df['datetime'] = pd.Series(pd.date_range('1/1/2015', periods=90, freq='D'))\n",
    "df['category'] = np.random.randint(low=5, high=10, size=90)\n",
    "df.to_csv(\"simulated_90_1day_only-pos.csv\", index=False)"
   ]
  },
  {
   "cell_type": "markdown",
   "metadata": {},
   "source": [
    "# 365 Rows, Each Row Is 1 Day, No Value Close To Zero"
   ]
  },
  {
   "cell_type": "code",
   "execution_count": 12,
   "metadata": {
    "collapsed": true
   },
   "outputs": [],
   "source": [
    "df = pd.DataFrame()\n",
    "df['pretest_score'] = np.random.randint(low=500000, high=10000000, size=365)\n",
    "df['posttest_score'] = np.random.randint(low=500000, high=10000000, size=365)\n",
    "df['datetime'] = pd.Series(pd.date_range('1/1/2004', periods=365, freq='D'))\n",
    "df['category'] = np.random.randint(low=5, high=10, size=365)\n",
    "df.to_csv(\"simulated_365_1day_only-pos.csv\", index=False)"
   ]
  },
  {
   "cell_type": "markdown",
   "metadata": {},
   "source": [
    "# 2160 Rows, Each Row Is 1 Hour, No Value Close To Zero"
   ]
  },
  {
   "cell_type": "code",
   "execution_count": 14,
   "metadata": {
    "collapsed": true
   },
   "outputs": [],
   "source": [
    "df = pd.DataFrame()\n",
    "df['pretest_score'] = np.random.randint(low=500000, high=10000000, size=2160)\n",
    "df['posttest_score'] = np.random.randint(low=500000, high=10000000, size=2160)\n",
    "df['datetime'] = pd.Series(pd.date_range('1/1/2004', periods=2160, freq='H'))\n",
    "df['category'] = np.random.randint(low=5, high=10, size=2160)\n",
    "df.to_csv(\"simulated_2160_1hour_only-pos.csv\", index=False)"
   ]
  },
  {
   "cell_type": "code",
   "execution_count": null,
   "metadata": {
    "collapsed": true
   },
   "outputs": [],
   "source": []
  }
 ],
 "metadata": {
  "kernelspec": {
   "display_name": "Python 3",
   "language": "python",
   "name": "python3"
  },
  "language_info": {
   "codemirror_mode": {
    "name": "ipython",
    "version": 3
   },
   "file_extension": ".py",
   "mimetype": "text/x-python",
   "name": "python",
   "nbconvert_exporter": "python",
   "pygments_lexer": "ipython3",
   "version": "3.4.3"
  }
 },
 "nbformat": 4,
 "nbformat_minor": 0
}
